{
 "cells": [
  {
   "cell_type": "code",
   "execution_count": 18,
   "metadata": {},
   "outputs": [],
   "source": [
    "import pandas as pd\n",
    "import numpy as np\n",
    "import matplotlib.pyplot as plt\n",
    "from os import listdir\n",
    "import seaborn as sns\n",
    "import category_encoders as ce\n",
    "from sklearn.model_selection import StratifiedKFold\n",
    "from sklearn.ensemble import RandomForestClassifier\n",
    "from sklearn.model_selection import train_test_split\n",
    "from imblearn.under_sampling import RandomUnderSampler"
   ]
  },
  {
   "cell_type": "code",
   "execution_count": 11,
   "metadata": {},
   "outputs": [],
   "source": [
    "df = pd.DataFrame()\n",
    "\n",
    "# Combine the dataframes\n",
    "for filename in listdir(\"dataset\\\\dataset\\\\train\\\\boxes_transcripts_labels\\\\\"):\n",
    "    df_temp = pd.read_csv(\"dataset\\\\dataset\\\\train\\\\boxes_transcripts_labels\\\\\" + filename, sep = \",\", header = None)\n",
    "    df_temp.columns = ['start_index', 'end_index', 'x_top_left', 'y_top_left', 'x_bottom_right', 'y_bottom_right','transcript','field']\n",
    "    #df_temp_trimmed = df_temp.loc[df_temp['field'] != 'OTHER']\n",
    "\n",
    "    df = pd.concat([df, df_temp], ignore_index = True)"
   ]
  },
  {
   "cell_type": "code",
   "execution_count": 12,
   "metadata": {},
   "outputs": [],
   "source": [
    "# Now we build the model and the preprocessing functions based on our analysis\n",
    "def Feature_Engineering(df, type = 'train'):\n",
    "    df['x_center'] = df[['x_top_left', 'x_bottom_right']].mean(axis=1)\n",
    "    df['y_center'] = df[['y_top_left', 'y_bottom_right']].mean(axis=1)\n",
    "    df['index_len'] = df['end_index'] - df['start_index']\n",
    "\n",
    "    # We select 5 features told to us by RFECV and the label\n",
    "    df = df[['start_index', 'end_index', 'x_center', 'y_center', 'index_len', 'field']]\n",
    "\n",
    "    return df\n",
    "\n",
    "def X_y_split(df):\n",
    "    y = df[['field']]\n",
    "    X = df[['start_index', 'end_index', 'x_center', 'y_center', 'index_len']]\n",
    "    return X,y\n"
   ]
  },
  {
   "cell_type": "code",
   "execution_count": 19,
   "metadata": {},
   "outputs": [],
   "source": [
    "def Hierarchical_Training(df, model1, model2, type = \"Not Complete\"):\n",
    "    df1 = Feature_Engineering(df)\n",
    "    df2 = df1.copy()\n",
    "\n",
    "    # For 1st model, we convert relevant columns as \"not other\"  & We reduce the number of \"OTHER\" columns to reduce skewness\n",
    "    df1.loc[df[\"field\"] != \"OTHER\", \"field\"] = 'NOT_OTHER'\n",
    "    rus = RandomUnderSampler(random_state=0, sampling_strategy=0.5)\n",
    "    # X1,y1 = X_y_split(df1)\n",
    "    resampled_df1 = rus.fit_resample(df1)\n",
    "\n",
    "    # For 2nd model, we simply drop all rows with 'OTHER' as label\n",
    "    df2 = df2.loc[df2['field'] != 'OTHER']\n",
    "\n",
    "    if type == \"Final\":\n",
    "        model1 = Train_Model(resampled_df1, model1, type)\n",
    "        model2 = Train_Model(df2, model2, type)\n",
    "        return model1, model2\n",
    "    \n",
    "    else:\n",
    "        model1, y_pred_1, y_test_1 = Train_Model(resampled_df1, model1)\n",
    "        model2, y_pred_2, y_test_2 = Train_Model(df2, model2)\n",
    "\n",
    "        return model1, model2, y_pred_1, y_pred_2, y_test_1, y_test_2\n",
    "\n",
    "\n",
    "def Train_Model(X,y, model, type = \"Not Complete\"):\n",
    "    \n",
    "    if type == \"Final\":\n",
    "        model.fit(X,y)\n",
    "        return model\n",
    "    \n",
    "    else:\n",
    "        X_train, X_test, y_train, y_test = train_test_split(X, y, test_size=0.2)\n",
    "        model.fit(X_train, y_train)\n",
    "        y_pred = model.predict(X_test)\n",
    "\n",
    "        return model, y_pred, y_test\n",
    "\n",
    "\n",
    "def Cross_Validation(X,y, model):\n",
    "\n",
    "    # Create StratifiedKFold object.\n",
    "    skf = StratifiedKFold(n_splits=10, shuffle=True, random_state=1)\n",
    "    accu_stratified = []\n",
    "    \n",
    "    for train_index, test_index in skf.split(X, y):\n",
    "        X_train_fold, X_test_fold = X.values[train_index], X.values[test_index]\n",
    "        y_train_fold, y_test_fold = y.values[train_index], y.values[test_index]\n",
    "        model.fit(X_train_fold, y_train_fold.ravel())\n",
    "        accu_stratified.append(model.score(X_test_fold, y_test_fold))\n",
    "    \n",
    "    return(accu_stratified)"
   ]
  },
  {
   "cell_type": "code",
   "execution_count": 20,
   "metadata": {},
   "outputs": [],
   "source": [
    "# This will help us choose the hyperparameters for our models using Cross Validation\n",
    "new_df = df.copy()\n",
    "\n",
    "df1 = Feature_Engineering(new_df)\n",
    "df2 = df1.copy()\n",
    "\n",
    "# For 1st model, we convert relevant columns as \"not other\"\n",
    "df1.loc[df[\"field\"] != \"OTHER\", \"field\"] = 'NOT_OTHER'\n",
    "X1,y1 = X_y_split(df1)\n",
    "rus = RandomUnderSampler(random_state=0, sampling_strategy = 0.5)\n",
    "resampled_X1, resampled_y1 = rus.fit_resample(X1,y1)\n",
    "\n",
    "# For 2nd model, we simply drop all rows with 'OTHER' as label\n",
    "df2 = df2.loc[df2['field'] != 'OTHER']\n",
    "X2,y2 = X_y_split(df2)\n"
   ]
  },
  {
   "cell_type": "code",
   "execution_count": 26,
   "metadata": {},
   "outputs": [
    {
     "name": "stdout",
     "output_type": "stream",
     "text": [
      "iteration value:  100\n",
      "\n",
      "Average Accuracy That can be obtained from this model is: 96.53128615135267 %\n",
      "iteration value:  150\n",
      "\n",
      "Average Accuracy That can be obtained from this model is: 96.54234711953853 %\n",
      "iteration value:  200\n",
      "\n",
      "Average Accuracy That can be obtained from this model is: 96.53127978969334 %\n",
      "iteration value:  250\n",
      "\n",
      "Average Accuracy That can be obtained from this model is: 96.56889628146331 %\n",
      "iteration value:  300\n",
      "\n",
      "Average Accuracy That can be obtained from this model is: 96.5202266512421 %\n"
     ]
    }
   ],
   "source": [
    "# n_estimators = 250\n",
    "plot_y = []\n",
    "for i in [100,150,200,250,300]:\n",
    "        model = RandomForestClassifier(n_estimators = i)\n",
    "        cv_score = Cross_Validation(resampled_X1,resampled_y1, model)\n",
    "\n",
    "        plot_y.append(np.mean(cv_score)*100)\n",
    "\n",
    "        # Print the output.\n",
    "        print('iteration value: ', i)\n",
    "        print('\\nAverage Accuracy That can be obtained from this model is:',\n",
    "        plot_y[-1], '%')"
   ]
  },
  {
   "cell_type": "code",
   "execution_count": 30,
   "metadata": {},
   "outputs": [
    {
     "name": "stdout",
     "output_type": "stream",
     "text": [
      "iteration value:  50\n",
      "\n",
      "Average Accuracy That can be obtained from this model is: 94.7371187666939 %\n",
      "iteration value:  100\n",
      "\n",
      "Average Accuracy That can be obtained from this model is: 94.73707029876512 %\n",
      "iteration value:  150\n",
      "\n",
      "Average Accuracy That can be obtained from this model is: 94.72379889863241 %\n",
      "iteration value:  200\n",
      "\n",
      "Average Accuracy That can be obtained from this model is: 94.8897398682201 %\n",
      "iteration value:  250\n",
      "\n",
      "Average Accuracy That can be obtained from this model is: 94.95608365035764 %\n",
      "iteration value:  300\n",
      "\n",
      "Average Accuracy That can be obtained from this model is: 94.88971343116805 %\n"
     ]
    }
   ],
   "source": [
    "# n_estimators = 250\n",
    "plot_y = []\n",
    "for i in [50,100,150,200,250,300]:\n",
    "        model = RandomForestClassifier(n_estimators = i)\n",
    "        cv_score = Cross_Validation(X2,y2, model)\n",
    "\n",
    "        plot_y.append(np.mean(cv_score)*100)\n",
    "\n",
    "        # Print the output.\n",
    "        print('iteration value: ', i)\n",
    "        print('\\nAverage Accuracy That can be obtained from this model is:',\n",
    "        plot_y[-1], '%')"
   ]
  },
  {
   "cell_type": "code",
   "execution_count": 31,
   "metadata": {},
   "outputs": [
    {
     "data": {
      "text/plain": [
       "[<matplotlib.lines.Line2D at 0x18f22ca7d60>]"
      ]
     },
     "execution_count": 31,
     "metadata": {},
     "output_type": "execute_result"
    },
    {
     "data": {
      "image/png": "[encoded data removed]",
      "text/plain": [
       "<Figure size 640x480 with 1 Axes>"
      ]
     },
     "metadata": {},
     "output_type": "display_data"
    }
   ],
   "source": [
    "plt.plot(range(6),plot_y)"
   ]
  }
 ],
 "metadata": {
  "kernelspec": {
   "display_name": "researchvenv",
   "language": "python",
   "name": "python3"
  },
  "language_info": {
   "codemirror_mode": {
    "name": "ipython",
    "version": 3
   },
   "file_extension": ".py",
   "mimetype": "text/x-python",
   "name": "python",
   "nbconvert_exporter": "python",
   "pygments_lexer": "ipython3",
   "version": "3.10.5"
  },
  "orig_nbformat": 4
 },
 "nbformat": 4,
 "nbformat_minor": 2
}
